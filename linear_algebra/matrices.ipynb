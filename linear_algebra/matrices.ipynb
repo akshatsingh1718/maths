{
 "cells": [
  {
   "cell_type": "code",
   "execution_count": 1,
   "metadata": {},
   "outputs": [],
   "source": [
    "import numpy as np"
   ]
  },
  {
   "cell_type": "markdown",
   "metadata": {},
   "source": [
    "\n",
    "---\n",
    "# Types of matrices\n",
    "---"
   ]
  },
  {
   "cell_type": "code",
   "execution_count": null,
   "metadata": {},
   "outputs": [],
   "source": []
  },
  {
   "cell_type": "code",
   "execution_count": 59,
   "metadata": {},
   "outputs": [
    {
     "name": "stdout",
     "output_type": "stream",
     "text": [
      "[1 4]\n"
     ]
    }
   ],
   "source": [
    "# square matrix\n",
    "S = np.random.randn(5, 5)\n",
    "# Rectangle matrix\n",
    "R = np.random.randn(5, 2)\n",
    "\n",
    "# Identity matrix\n",
    "I = np.eye(4)\n",
    "\n",
    "# Zero Matrix\n",
    "O = np.zeros((4, 4))\n",
    "\n",
    "# Diagonal Matrix\n",
    "D = np.diag([2, 3, 5, 6, 0, 4, -1])\n",
    "\n",
    "# Triangular matrix\n",
    "## Upper triangle\n",
    "U = np.triu(S)\n",
    "L = np.tril(S)\n",
    "\n",
    "# Concatinated Matrices\n",
    "A = np.random.randn(3, 2)\n",
    "B = np.random.randn(3, 1)\n",
    "C = np.concatenate((A, B), axis=1)\n",
    "# print(A)\n",
    "# print(' ')\n",
    "# print(B)\n",
    "# print(' ')\n",
    "# print(C)"
   ]
  },
  {
   "cell_type": "markdown",
   "metadata": {},
   "source": [
    "\n",
    "---\n",
    "# Matrix addition and subtraction\n",
    "---"
   ]
  },
  {
   "cell_type": "code",
   "execution_count": 19,
   "metadata": {},
   "outputs": [
    {
     "name": "stdout",
     "output_type": "stream",
     "text": [
      "[[-0.98331811  3.28958367 -0.34397389 -1.31775816]\n",
      " [-1.94522142 -0.42296618 -1.21599143 -1.81005792]\n",
      " [-0.05529424 -0.7227441  -0.11550695  0.40899721]\n",
      " [ 0.71188402 -1.68650097  0.0154413   0.84280871]\n",
      " [ 1.72759199 -0.30556625 -0.27670968  0.06984412]]\n"
     ]
    }
   ],
   "source": [
    "A = np.random.randn(5, 4)\n",
    "B = np.random.randn(5, 6)\n",
    "C = np.random.randn(5, 4)\n",
    "\n",
    "print(A + C)"
   ]
  },
  {
   "cell_type": "code",
   "execution_count": 21,
   "metadata": {},
   "outputs": [
    {
     "name": "stdout",
     "output_type": "stream",
     "text": [
      "[[-1.27890888  1.13960856  1.42142383 -2.01395806 -0.88314575]\n",
      " [ 1.87620755 -0.4533128   0.42085091  0.13857658  0.67706071]\n",
      " [-0.30871181 -1.00610069 -0.95333448 -1.10647358  0.88649071]\n",
      " [ 0.09143991  0.9985919  -1.1761302   0.86594557  0.44108155]\n",
      " [-0.10515701  0.85471681  0.8017986  -1.24357448 -1.49949576]]\n",
      " \n",
      "[[-0.97890888  1.13960856  1.42142383 -2.01395806 -0.88314575]\n",
      " [ 1.87620755 -0.1533128   0.42085091  0.13857658  0.67706071]\n",
      " [-0.30871181 -1.00610069 -0.65333448 -1.10647358  0.88649071]\n",
      " [ 0.09143991  0.9985919  -1.1761302   1.16594557  0.44108155]\n",
      " [-0.10515701  0.85471681  0.8017986  -1.24357448 -1.19949576]]\n"
     ]
    }
   ],
   "source": [
    "# Shifting a matrix\n",
    "N = 5\n",
    "l = 0.3\n",
    "A = np.random.randn(N, N)\n",
    "C = A + l*np.eye(N)\n",
    "print(A)\n",
    "print(' ')\n",
    "print(C)"
   ]
  },
  {
   "cell_type": "markdown",
   "metadata": {},
   "source": [
    "\n",
    "---\n",
    "# Matrix-scalar multiplication\n",
    "---\n"
   ]
  },
  {
   "cell_type": "code",
   "execution_count": 24,
   "metadata": {},
   "outputs": [
    {
     "name": "stdout",
     "output_type": "stream",
     "text": [
      "[[2 4]\n",
      " [6 8]]\n",
      " \n",
      "[[2 4]\n",
      " [6 8]]\n"
     ]
    }
   ],
   "source": [
    "B = np.array([[1, 2], [3, 4]])\n",
    "s = 2\n",
    "print(s*B)\n",
    "print(' ')\n",
    "print(B*s)\n"
   ]
  },
  {
   "cell_type": "markdown",
   "metadata": {},
   "source": [
    "---\n",
    "### Code Challange :\n",
    "### Test whether Matrix multiplication is distributive\n",
    "### Is matrix scaler multplication is a linear operation\n",
    "---"
   ]
  },
  {
   "cell_type": "code",
   "execution_count": 28,
   "metadata": {},
   "outputs": [
    {
     "name": "stdout",
     "output_type": "stream",
     "text": [
      "[[ 6 12]\n",
      " [12 16]]\n",
      " \n",
      "[[ 6 12]\n",
      " [12 16]]\n",
      " \n",
      "[[0 0]\n",
      " [0 0]]\n"
     ]
    }
   ],
   "source": [
    "M = np.array([[1, 2], [2, 3]])\n",
    "N = np.array([[2, 4], [4, 5]])\n",
    "s = 2\n",
    "A = s * (M + N)\n",
    "B = s * M + s * N\n",
    "print(A)\n",
    "print(' ')\n",
    "print(B)\n",
    "print(' ')\n",
    "print(A-B)"
   ]
  },
  {
   "cell_type": "markdown",
   "metadata": {},
   "source": [
    "---\n",
    "# Transpose\n",
    "---"
   ]
  },
  {
   "cell_type": "code",
   "execution_count": 40,
   "metadata": {},
   "outputs": [
    {
     "name": "stdout",
     "output_type": "stream",
     "text": [
      "[[1 2 3]\n",
      " [3 4 5]]\n",
      " \n",
      "[[1 2 3]\n",
      " [3 4 5]]\n",
      " \n",
      "[[1 3]\n",
      " [2 4]\n",
      " [3 5]]\n",
      " \n",
      "[[1 3]\n",
      " [2 4]\n",
      " [3 5]]\n"
     ]
    }
   ],
   "source": [
    "M = np.array([[1, 2, 3],\n",
    "              [3, 4 ,5]\n",
    "             ])\n",
    "print(M)\n",
    "print(' ')\n",
    "print(M.T.T)\n",
    "print(' ')\n",
    "print(M.T)\n",
    "print(' ')\n",
    "print(np.transpose(M))"
   ]
  },
  {
   "cell_type": "code",
   "execution_count": 55,
   "metadata": {},
   "outputs": [
    {
     "name": "stdout",
     "output_type": "stream",
     "text": [
      "[1.+3.j 3.-4.j 9.+8.j]\n",
      " \n",
      "[[1.+3.j]\n",
      " [3.-4.j]\n",
      " [9.+8.j]]\n",
      " \n",
      "[[1.-3.j]\n",
      " [3.+4.j]\n",
      " [9.-8.j]]\n",
      " \n",
      "[1.-3.j 3.+4.j 9.-8.j]\n"
     ]
    }
   ],
   "source": [
    "c = np.array([1+3j, 3-4j, 9+8j])\n",
    "\n",
    "print(c)\n",
    "print(' ')\n",
    "print(np.matrix(c).T)\n",
    "print(' ')\n",
    "print(np.matrix(c).H)\n",
    "print(' ')\n",
    "print(np.transpose(np.conjugate(c)))"
   ]
  },
  {
   "cell_type": "markdown",
   "metadata": {},
   "source": [
    "\n",
    "---\n",
    "# VIDEO: Diagonal and trace\n",
    "---\n"
   ]
  },
  {
   "cell_type": "code",
   "execution_count": 75,
   "metadata": {},
   "outputs": [
    {
     "name": "stdout",
     "output_type": "stream",
     "text": [
      "d : [ 1.  1.  6. -2.]\n",
      " \n",
      "[ 1.  1.  6. -2.]\n",
      " \n",
      "[[ 1.  0.  0.  0.]\n",
      " [ 0.  1.  0.  0.]\n",
      " [ 0.  0.  6.  0.]\n",
      " [ 0.  0.  0. -2.]]\n",
      " \n"
     ]
    }
   ],
   "source": [
    "# Diagonal\n",
    "F = np.round( 5 * np.random.randn(4, 4))\n",
    "d = np.diag(F)\n",
    "print(f'd : {d}')\n",
    "print(' ')\n",
    "print(d)\n",
    "print(' ')\n",
    "print(np.diag(d))\n",
    "print(' ')"
   ]
  },
  {
   "cell_type": "code",
   "execution_count": 78,
   "metadata": {},
   "outputs": [
    {
     "name": "stdout",
     "output_type": "stream",
     "text": [
      "[[-4. -5.  9. -5.]\n",
      " [ 5.  3. -4. -1.]\n",
      " [ 1.  3.  2.  4.]\n",
      " [-6.  5.  6. -0.]]\n",
      " \n",
      "[-4.  3.  2. -0.]\n",
      " \n",
      "1.0\n",
      " \n",
      "1.0\n"
     ]
    }
   ],
   "source": [
    "# Trace\n",
    "F = np.round( 5 * np.random.randn(4, 4))\n",
    "print(F)\n",
    "print(' ')\n",
    "d = np.diag(F)\n",
    "print(d)\n",
    "print(' ')\n",
    "print(np.trace(F))\n",
    "print(' ')\n",
    "# Computing trace of a matrix\n",
    "print(sum(np.diag(F)))"
   ]
  },
  {
   "cell_type": "markdown",
   "metadata": {},
   "source": [
    "--- \n",
    "## code challange: linearity of trace (closed under addition and multiplication\n",
    "---"
   ]
  },
  {
   "cell_type": "code",
   "execution_count": 84,
   "metadata": {},
   "outputs": [
    {
     "name": "stdout",
     "output_type": "stream",
     "text": [
      "[[  1.   2.   5.]\n",
      " [ -8.  -2.   3.]\n",
      " [  5.   1. -10.]]\n",
      " \n",
      "[[ 0. -9. -5.]\n",
      " [ 4.  6. -6.]\n",
      " [-2.  7. -4.]]\n",
      " \n",
      "-9.0\n",
      " \n",
      "-9.0\n",
      " \n"
     ]
    }
   ],
   "source": [
    "A = np.round(5 * np.random.randn(3, 3))\n",
    "B = np.round(6 * np.random.randn(3, 3))\n",
    "\n",
    "print(A)\n",
    "print(' ')\n",
    "print(B)\n",
    "print(' ')\n",
    "print(np.trace(A) + np.trace(B))\n",
    "print(' ')\n",
    "print(np.trace(A+B))\n",
    "print(' ')"
   ]
  },
  {
   "cell_type": "code",
   "execution_count": 85,
   "metadata": {},
   "outputs": [
    {
     "name": "stdout",
     "output_type": "stream",
     "text": [
      "[[  1.  -7.  -3.]\n",
      " [ -2.   3. -14.]\n",
      " [  3.   5.  -7.]]\n",
      " \n",
      "-9.0\n",
      " \n",
      "-9.0\n"
     ]
    }
   ],
   "source": [
    "A = np.round(5 * np.random.randn(3, 3))\n",
    "l = 3\n",
    "print(A)\n",
    "print(' ')\n",
    "print(l * np.trace(A))\n",
    "print(' ')\n",
    "print(np.trace(l * A))"
   ]
  },
  {
   "cell_type": "markdown",
   "metadata": {},
   "source": [
    "---\n",
    "# Broadcasting matrix arithmetic\n",
    "---"
   ]
  },
  {
   "cell_type": "code",
   "execution_count": 92,
   "metadata": {},
   "outputs": [
    {
     "name": "stdout",
     "output_type": "stream",
     "text": [
      "[[ 1  4  7 10]\n",
      " [ 2  5  8 11]\n",
      " [ 3  6  9 12]]\n",
      " \n",
      "[[101 204 307 410]\n",
      " [102 205 308 411]\n",
      " [103 206 309 412]]\n"
     ]
    }
   ],
   "source": [
    "A = np.reshape(np.arange(1, 13), (3, 4), 'F')\n",
    "print(A)\n",
    "r = [100, 200, 300, 400]\n",
    "c = [100, 200, 300]\n",
    "\n",
    "print(' ')\n",
    "print(A + r)"
   ]
  },
  {
   "cell_type": "code",
   "execution_count": 97,
   "metadata": {},
   "outputs": [
    {
     "name": "stdout",
     "output_type": "stream",
     "text": [
      "[[101 104 107 110]\n",
      " [202 205 208 211]\n",
      " [303 306 309 312]]\n"
     ]
    }
   ],
   "source": [
    "print(A + np.reshape(c,(len(c), 1)))"
   ]
  },
  {
   "cell_type": "code",
   "execution_count": 98,
   "metadata": {},
   "outputs": [
    {
     "data": {
      "text/plain": [
       "array([[100],\n",
       "       [200],\n",
       "       [300]])"
      ]
     },
     "execution_count": 98,
     "metadata": {},
     "output_type": "execute_result"
    }
   ],
   "source": [
    "np.reshape(c, (len(c), 1))"
   ]
  },
  {
   "cell_type": "code",
   "execution_count": 99,
   "metadata": {},
   "outputs": [
    {
     "data": {
      "text/plain": [
       "array([[100],\n",
       "       [200],\n",
       "       [300]])"
      ]
     },
     "execution_count": 99,
     "metadata": {},
     "output_type": "execute_result"
    }
   ],
   "source": [
    "np.reshape([100, 200, 300], (3,1))"
   ]
  },
  {
   "cell_type": "code",
   "execution_count": null,
   "metadata": {},
   "outputs": [],
   "source": []
  }
 ],
 "metadata": {
  "kernelspec": {
   "display_name": "Python 3",
   "language": "python",
   "name": "python3"
  },
  "language_info": {
   "codemirror_mode": {
    "name": "ipython",
    "version": 3
   },
   "file_extension": ".py",
   "mimetype": "text/x-python",
   "name": "python",
   "nbconvert_exporter": "python",
   "pygments_lexer": "ipython3",
   "version": "3.8.3"
  }
 },
 "nbformat": 4,
 "nbformat_minor": 4
}
