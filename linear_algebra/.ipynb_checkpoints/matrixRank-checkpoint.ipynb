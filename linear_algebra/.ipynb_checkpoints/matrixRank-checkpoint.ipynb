{
 "cells": [
  {
   "cell_type": "code",
   "execution_count": 13,
   "metadata": {},
   "outputs": [],
   "source": [
    "import numpy as np\n",
    "import matplotlib.pyplot as plt\n",
    "import math"
   ]
  },
  {
   "cell_type": "markdown",
   "metadata": {},
   "source": [
    "\n",
    "---\n",
    "# Computing rank: theory and practice\n",
    "---\n"
   ]
  },
  {
   "cell_type": "code",
   "execution_count": 14,
   "metadata": {},
   "outputs": [
    {
     "name": "stdout",
     "output_type": "stream",
     "text": [
      "Rank : 4\n",
      "[[-0.63898901 -0.33922934 -0.47416093  1.03969142 -1.2954749   0.02220221]\n",
      " [-0.84587793 -0.92511008 -0.24499309  1.08567245 -0.81545061  0.30303518]\n",
      " [ 0.12786953  0.3258742   0.05356756  0.44697986  1.21862062  0.27275236]\n",
      " [ 0.16770322 -0.18075786 -0.22217164  1.40144599  1.11242661 -2.40566301]]\n",
      "Rank : 4\n",
      "[[-0.63898901 -0.33922934 -0.47416093  1.03969142  0.02220221  0.02220221]\n",
      " [-0.84587793 -0.92511008 -0.24499309  1.08567245  0.30303518  0.30303518]\n",
      " [ 0.12786953  0.3258742   0.05356756  0.44697986  0.27275236  0.27275236]\n",
      " [ 0.16770322 -0.18075786 -0.22217164  1.40144599 -2.40566301 -2.40566301]]\n"
     ]
    }
   ],
   "source": [
    "m, n = 4, 6\n",
    "A = np.random.randn(m, n)\n",
    "\n",
    "print(f'Rank : {np.linalg.matrix_rank(A)}')\n",
    "print(A)\n",
    "\n",
    "B = A\n",
    "B[:, -2] = B[:, -1]\n",
    "print(f'Rank : {np.linalg.matrix_rank(B)}')\n",
    "print(B)"
   ]
  },
  {
   "cell_type": "code",
   "execution_count": 15,
   "metadata": {},
   "outputs": [
    {
     "name": "stdout",
     "output_type": "stream",
     "text": [
      "rank (w/o noise) = 3\n",
      "[[ -3.   7.  13.  13.]\n",
      " [-13.  13.   5.   5.]\n",
      " [ 10.  22.  12.  12.]\n",
      " [ -5.   4.   3.   3.]]\n",
      "##################################################\n",
      "rank (with noise) = 4\n",
      "[[ -2.99999928   7.00000202  13.00000136  12.99999916]\n",
      " [-13.00000147  12.99999989   5.00000089   5.00000135]\n",
      " [  9.99999994  22.00000042  11.99999948  11.9999995 ]\n",
      " [ -5.00000027   3.99999957   3.00000007   2.99999811]]\n",
      "##################################################\n"
     ]
    }
   ],
   "source": [
    "## adding noise to a rank-deficient matrix\n",
    "m = 4\n",
    "# square for convenience\n",
    "A = np.round( 10*np.random.randn(m,m) )\n",
    "\n",
    "# reduce the rank\n",
    "A[:,-1] = A[:,-2]\n",
    "\n",
    "# noise level\n",
    "noiseamp = .000001\n",
    "\n",
    "# add the noise\n",
    "N =  noiseamp * np.random.randn(m,m)\n",
    "B = A + N\n",
    "\n",
    "print('rank (w/o noise) = ' + str(np.linalg.matrix_rank(A)))\n",
    "print(A)\n",
    "print('#' * 50)\n",
    "print('rank (with noise) = ' + str(np.linalg.matrix_rank(B)))\n",
    "print(B)\n",
    "print('#' * 50)\n",
    "# print(C)"
   ]
  },
  {
   "cell_type": "markdown",
   "metadata": {},
   "source": [
    "---\n",
    "### Code challange: reduced rank matrix via matrix multiplication\n",
    "---"
   ]
  },
  {
   "cell_type": "code",
   "execution_count": 16,
   "metadata": {},
   "outputs": [
    {
     "name": "stdout",
     "output_type": "stream",
     "text": [
      "size : (6, 44)\n",
      "rank : 4\n"
     ]
    }
   ],
   "source": [
    "m = 6\n",
    "n = 44\n",
    "r = 4\n",
    "\n",
    "# Here r should be less than m and n as ranl(A @ B) <= min(rank(A), rank(B)) \n",
    "A = np.random.randn(m ,r)\n",
    "B = np.random.randn(r, n)\n",
    "C = A @ B\n",
    "print(f'size : {np.shape(C)}')\n",
    "print(f'rank : {np.linalg.matrix_rank(C)}')"
   ]
  },
  {
   "cell_type": "markdown",
   "metadata": {},
   "source": [
    "---\n",
    "### Code challenge: scalar multiplication and rank\n",
    "---"
   ]
  },
  {
   "cell_type": "code",
   "execution_count": 17,
   "metadata": {},
   "outputs": [
    {
     "name": "stdout",
     "output_type": "stream",
     "text": [
      "Rank of F   :7\n",
      "Rank of F*l :7\n",
      "Rank of R   :6\n",
      "Rank of R*l :6\n",
      "\n",
      "Rank of R*l   :6\n",
      "l * Rank of R :14.0604\n"
     ]
    }
   ],
   "source": [
    "## Test whether the matrix is invariant to scalar multiple\n",
    "# rank(A) != rank(A*l)\n",
    "\n",
    "# create 2 matrices: full rank and reduced rank (Random)\n",
    "m, n = 10, 7\n",
    "F = np.random.randn(m, n) @ np.random.randn(n, n)\n",
    "R = np.random.randn(m, n-1) @ np.random.randn(n-1, n)\n",
    "\n",
    "# create some scalar\n",
    "l = 32442342\n",
    "\n",
    "# print rank of F, R, F*l, R*l\n",
    "print(f'Rank of F   :{np.linalg.matrix_rank(F)}')\n",
    "print(f'Rank of F*l :{np.linalg.matrix_rank(F*l)}')\n",
    "print(f'Rank of R   :{np.linalg.matrix_rank(R)}')\n",
    "print(f'Rank of R*l :{np.linalg.matrix_rank(R*l)}')\n",
    "\n",
    "print('')\n",
    "l = 2.3434\n",
    "# check if l * rank(A) == rank(A * l)\n",
    "print(f'Rank of R*l   :{np.linalg.matrix_rank(R*l)}')\n",
    "print(f'l * Rank of R :{l * np.linalg.matrix_rank(R)}')"
   ]
  },
  {
   "cell_type": "code",
   "execution_count": 18,
   "metadata": {},
   "outputs": [
    {
     "data": {
      "text/plain": [
       "((10, 7), (10, 7))"
      ]
     },
     "execution_count": 18,
     "metadata": {},
     "output_type": "execute_result"
    }
   ],
   "source": [
    "F.shape, R.shape"
   ]
  },
  {
   "cell_type": "markdown",
   "metadata": {},
   "source": [
    "---\n",
    "### code challange: rank of multiplied and summed matrices\n",
    "---"
   ]
  },
  {
   "cell_type": "code",
   "execution_count": 30,
   "metadata": {},
   "outputs": [
    {
     "name": "stdout",
     "output_type": "stream",
     "text": [
      "rank(A)   : 2\n",
      "rank(AtA) : 2\n",
      "rank(B)   : 2\n",
      "rank(BtB) : 2\n",
      "rank(AtA @ BtB) : 2\n",
      "rank(AtA + BtB) : 4\n"
     ]
    }
   ],
   "source": [
    "## rule ##\n",
    "# rank(AB) <= min(rank(A), rank(B))\n",
    "# rank(A+B) <= rank(A) + rank(B)\n",
    "m, n = 2, 5\n",
    "A = np.random.randn(m, n)\n",
    "B = np.random.randn(m, n)\n",
    "\n",
    "AtA = A.T @ A\n",
    "BtB = B.T @ B\n",
    "print(f'rank(A)   : {np.linalg.matrix_rank(A)}')\n",
    "print(f'rank(AtA) : {np.linalg.matrix_rank(AtA)}')\n",
    "print(f'rank(B)   : {np.linalg.matrix_rank(B)}')\n",
    "print(f'rank(BtB) : {np.linalg.matrix_rank(BtB)}')\n",
    "print(f'rank(AtA @ BtB) : {np.linalg.matrix_rank(AtA @ BtB)}')\n",
    "print(f'rank(AtA + BtB) : {np.linalg.matrix_rank(AtA + BtB)}')"
   ]
  },
  {
   "cell_type": "code",
   "execution_count": 31,
   "metadata": {},
   "outputs": [
    {
     "data": {
      "text/plain": [
       "array([[ 1.88180585,  1.50602916, -2.88481956, -1.50310309,  0.11857178],\n",
       "       [ 1.50602916,  7.86074466, -3.45261117, -2.18628142,  2.45761044],\n",
       "       [-2.88481956, -3.45261117,  4.61903841,  2.47326931, -0.58784656],\n",
       "       [-1.50310309, -2.18628142,  2.47326931,  1.34589778, -0.44379723],\n",
       "       [ 0.11857178,  2.45761044, -0.58784656, -0.44379723,  0.84624612]])"
      ]
     },
     "execution_count": 31,
     "metadata": {},
     "output_type": "execute_result"
    }
   ],
   "source": [
    "AtA"
   ]
  },
  {
   "cell_type": "code",
   "execution_count": 32,
   "metadata": {},
   "outputs": [
    {
     "data": {
      "text/plain": [
       "array([[ 0.61838842,  2.79772501, -1.34377458, -0.83417937,  0.85647671],\n",
       "       [-1.22450055,  0.18297386,  1.67729195,  0.80625217,  0.33569891]])"
      ]
     },
     "execution_count": 32,
     "metadata": {},
     "output_type": "execute_result"
    }
   ],
   "source": [
    "A"
   ]
  },
  {
   "cell_type": "code",
   "execution_count": 34,
   "metadata": {},
   "outputs": [
    {
     "data": {
      "text/plain": [
       "array([[ 1.88180585,  1.50602916, -2.88481956, -1.50310309,  0.11857178],\n",
       "       [ 1.50602916,  7.86074466, -3.45261117, -2.18628142,  2.45761044],\n",
       "       [-2.88481956, -3.45261117,  4.61903841,  2.47326931, -0.58784656],\n",
       "       [-1.50310309, -2.18628142,  2.47326931,  1.34589778, -0.44379723],\n",
       "       [ 0.11857178,  2.45761044, -0.58784656, -0.44379723,  0.84624612]])"
      ]
     },
     "execution_count": 34,
     "metadata": {},
     "output_type": "execute_result"
    }
   ],
   "source": [
    "A.T @ A"
   ]
  },
  {
   "cell_type": "code",
   "execution_count": 35,
   "metadata": {},
   "outputs": [
    {
     "data": {
      "text/plain": [
       "array([[11.44480717, -2.88424934],\n",
       "       [-2.88424934,  5.10892565]])"
      ]
     },
     "execution_count": 35,
     "metadata": {},
     "output_type": "execute_result"
    }
   ],
   "source": [
    "A @ A.T"
   ]
  },
  {
   "cell_type": "markdown",
   "metadata": {},
   "source": [
    " \n",
    "---\n",
    "# Making a matrix full-rank by \"shifting\"\n",
    "---\n"
   ]
  },
  {
   "cell_type": "code",
   "execution_count": 73,
   "metadata": {},
   "outputs": [
    {
     "name": "stdout",
     "output_type": "stream",
     "text": [
      "rank(w/o shift)  = 1\n",
      "rank(with shift) = 4\n"
     ]
    }
   ],
   "source": [
    "A = np.random.randn(4, 4)\n",
    "\n",
    "# create the square symmetric matrix\n",
    "A = np.round(10 * A.T@A)\n",
    "\n",
    "# reduce the rank\n",
    "A[:, 0] = A[:, 1]\n",
    "A[:, 2] = A[:, 1]\n",
    "A[:, 3] = A[:, 1]\n",
    "# shift amount (l=lambda)\n",
    "l = .01\n",
    "\n",
    "B = A + l*np.eye(4, 4)\n",
    "\n",
    "# print information\n",
    "print('rank(w/o shift)  = %d' %np.linalg.matrix_rank(A))\n",
    "print('rank(with shift) = %d' %np.linalg.matrix_rank(B))"
   ]
  },
  {
   "cell_type": "code",
   "execution_count": 40,
   "metadata": {},
   "outputs": [
    {
     "data": {
      "text/plain": [
       "array([[-8., -8., -8., -8.],\n",
       "       [21., 21., 21., 21.],\n",
       "       [10., 10., 10., 10.],\n",
       "       [ 2.,  2.,  2.,  2.]])"
      ]
     },
     "execution_count": 40,
     "metadata": {},
     "output_type": "execute_result"
    }
   ],
   "source": [
    "A"
   ]
  },
  {
   "cell_type": "code",
   "execution_count": 41,
   "metadata": {},
   "outputs": [
    {
     "data": {
      "text/plain": [
       "array([[-7.99, -8.  , -8.  , -8.  ],\n",
       "       [21.  , 21.01, 21.  , 21.  ],\n",
       "       [10.  , 10.  , 10.01, 10.  ],\n",
       "       [ 2.  ,  2.  ,  2.  ,  2.01]])"
      ]
     },
     "execution_count": 41,
     "metadata": {},
     "output_type": "execute_result"
    }
   ],
   "source": [
    "B"
   ]
  },
  {
   "cell_type": "markdown",
   "metadata": {},
   "source": [
    "---\n",
    "### code challange: check if the vector is in the span of the given set\n",
    "---"
   ]
  },
  {
   "cell_type": "code",
   "execution_count": 65,
   "metadata": {},
   "outputs": [],
   "source": [
    "v =  np.array([[1, 2, 3, 4]]).T\n",
    "\n",
    "S = np.vstack(([4, 3, 6, 2], [0, 4, 0, 1])).T\n",
    "T = np.vstack(([1, 2, 2, 2], [0, 0, 1, 2])).T\n",
    "\n",
    "Sv = np.concatenate((S, v), axis=1)\n",
    "Tv = np.concatenate((T, v), axis=1)"
   ]
  },
  {
   "cell_type": "code",
   "execution_count": 72,
   "metadata": {},
   "outputs": [
    {
     "name": "stdout",
     "output_type": "stream",
     "text": [
      "Rank(S) :2\n",
      "Rank(T) :2\n",
      "Rank(Sv) :3\n",
      "Rank(Tv) :2\n"
     ]
    }
   ],
   "source": [
    "print(f'Rank(S) :{np.linalg.matrix_rank(S)}')\n",
    "print(f'Rank(T) :{np.linalg.matrix_rank(T)}')\n",
    "print(f'Rank(Sv) :{np.linalg.matrix_rank(Sv)}')\n",
    "print(f'Rank(Tv) :{np.linalg.matrix_rank(Tv)}')\n",
    "# Clearly we can see that v is not spanning in the set S but spanning in set T"
   ]
  },
  {
   "cell_type": "code",
   "execution_count": 67,
   "metadata": {},
   "outputs": [
    {
     "data": {
      "text/plain": [
       "array([[1, 0, 1],\n",
       "       [2, 0, 2],\n",
       "       [2, 1, 3],\n",
       "       [2, 2, 4]])"
      ]
     },
     "execution_count": 67,
     "metadata": {},
     "output_type": "execute_result"
    }
   ],
   "source": []
  },
  {
   "cell_type": "code",
   "execution_count": null,
   "metadata": {},
   "outputs": [],
   "source": []
  }
 ],
 "metadata": {
  "kernelspec": {
   "display_name": "Python 3",
   "language": "python",
   "name": "python3"
  },
  "language_info": {
   "codemirror_mode": {
    "name": "ipython",
    "version": 3
   },
   "file_extension": ".py",
   "mimetype": "text/x-python",
   "name": "python",
   "nbconvert_exporter": "python",
   "pygments_lexer": "ipython3",
   "version": "3.8.3"
  }
 },
 "nbformat": 4,
 "nbformat_minor": 4
}
