{
 "cells": [
  {
   "cell_type": "code",
   "execution_count": 83,
   "metadata": {},
   "outputs": [],
   "source": [
    "import numpy as np\n",
    "import matplotlib.pyplot as plt\n",
    "from sympy import *\n",
    "import matplotlib as mpl\n",
    "\n",
    "mpl.rcParams['text.color'] = 'red'\n",
    "mpl.rcParams['xtick.color'] = 'r'\n",
    "mpl.rcParams['ytick.color'] = 'r'\n",
    "mpl.rcParams['axes.labelcolor'] = 'red'"
   ]
  },
  {
   "cell_type": "markdown",
   "metadata": {},
   "source": [
    "---\n",
    "# Concept and uses of the inverse\n",
    "---"
   ]
  },
  {
   "cell_type": "code",
   "execution_count": 84,
   "metadata": {},
   "outputs": [
    {
     "name": "stdout",
     "output_type": "stream",
     "text": [
      "[[ 1.00000000e+00 -1.04046997e-16  2.33416779e-17]\n",
      " [ 1.06827436e-16  1.00000000e+00  7.25677494e-17]\n",
      " [ 2.07071415e-16 -1.88265083e-16  1.00000000e+00]]\n"
     ]
    }
   ],
   "source": [
    "m = 3\n",
    "A = np.random.randn(m, m)\n",
    "Ainv = np.linalg.inv(A)\n",
    "idm = A @ Ainv\n",
    "print(idm)\n",
    "# Here we can see that diagonal elemnts are 1's and non diagonal elements are either 0 \n",
    "# or very small values which are very closer to zero or computer rounding precesion error"
   ]
  },
  {
   "cell_type": "code",
   "execution_count": 85,
   "metadata": {},
   "outputs": [
    {
     "data": {
      "image/png": "[encoded data removed]",
      "text/plain": [
       "<Figure size 432x288 with 3 Axes>"
      ]
     },
     "metadata": {
      "needs_background": "light"
     },
     "output_type": "display_data"
    }
   ],
   "source": [
    "plt.subplot(131)\n",
    "plt.imshow(A)\n",
    "plt.title('Matrix A')\n",
    "\n",
    "plt.subplot(132)\n",
    "plt.imshow(Ainv)\n",
    "plt.title('Matrix A$^{-1}$')\n",
    "\n",
    "plt.subplot(133)\n",
    "\n",
    "plt.imshow(idm)\n",
    "plt.title('A @ A$^{-1}$')\n",
    "\n",
    "plt.show()"
   ]
  },
  {
   "cell_type": "code",
   "execution_count": null,
   "metadata": {},
   "outputs": [],
   "source": []
  },
  {
   "cell_type": "markdown",
   "metadata": {},
   "source": [
    "---\n",
    "### Code challange: MCA implementation\n",
    "---"
   ]
  },
  {
   "cell_type": "code",
   "execution_count": 86,
   "metadata": {},
   "outputs": [],
   "source": [
    "def MCA(mat):\n",
    "    det = np.linalg.det(mat)\n",
    "    if det == 0:\n",
    "        return -1\n",
    "    # minors matrix\n",
    "    M = np.zeros(mat.shape)\n",
    "    H = np.zeros(mat.shape)\n",
    "    for i in range(len(mat)):\n",
    "        for j in range(len(mat)):\n",
    "            rows = [True]* len(mat)\n",
    "            rows[i] = False\n",
    "            cols = [True]* len(mat)\n",
    "            cols[j] = False\n",
    "            M[i,j] = np.linalg.det(mat[rows,:][:,cols])\n",
    "            H[i,j] = (-1)**(i+j)\n",
    "    C = H * M\n",
    "    return C.T / det"
   ]
  },
  {
   "cell_type": "code",
   "execution_count": 87,
   "metadata": {},
   "outputs": [
    {
     "data": {
      "text/plain": [
       "array([[4, 6],\n",
       "       [7, 9]])"
      ]
     },
     "execution_count": 87,
     "metadata": {},
     "output_type": "execute_result"
    }
   ],
   "source": [
    "# How above code is working\n",
    "A = np.array([\n",
    "    [1, 2, 3],\n",
    "    [4, 5, 6],\n",
    "    [7, 8, 9]\n",
    "])\n",
    "\n",
    "row = np.array([False, True, True])\n",
    "col = np.array([True, False, True])\n",
    "A[row,:][:,col]"
   ]
  },
  {
   "cell_type": "code",
   "execution_count": 88,
   "metadata": {},
   "outputs": [
    {
     "name": "stdout",
     "output_type": "stream",
     "text": [
      "[[ 1.00000000e+00  0.00000000e+00  2.22044605e-16  8.88178420e-16]\n",
      " [ 2.77555756e-16  1.00000000e+00  5.55111512e-17 -4.44089210e-16]\n",
      " [ 1.38777878e-17 -1.11022302e-16  1.00000000e+00 -2.22044605e-16]\n",
      " [ 1.11022302e-16 -1.11022302e-16 -6.59194921e-17  1.00000000e+00]]\n"
     ]
    }
   ],
   "source": [
    "m = 4\n",
    "A = np.random.randn(m, m)\n",
    "A_inv = MCA(A)\n",
    "print(A @ A_inv)"
   ]
  },
  {
   "cell_type": "code",
   "execution_count": 89,
   "metadata": {},
   "outputs": [
    {
     "name": "stdout",
     "output_type": "stream",
     "text": [
      "[[ 2.77555756e-17 -2.22044605e-16  4.44089210e-16  2.22044605e-16]\n",
      " [-1.11022302e-16  2.22044605e-16 -1.11022302e-16 -8.88178420e-16]\n",
      " [ 2.22044605e-16 -4.44089210e-16  2.22044605e-16  0.00000000e+00]\n",
      " [ 2.22044605e-16  0.00000000e+00 -4.44089210e-16 -2.22044605e-16]]\n"
     ]
    }
   ],
   "source": [
    "print(np.linalg.inv(A) - A_inv)"
   ]
  },
  {
   "cell_type": "code",
   "execution_count": 90,
   "metadata": {},
   "outputs": [
    {
     "data": {
      "text/plain": [
       "array([[-0.18042961,  1.09676257, -1.71787304, -1.76217688],\n",
       "       [ 0.73221635, -1.20707997,  0.97210027,  3.00539851],\n",
       "       [ 0.57626953,  2.89742112, -1.93660451, -5.66953766],\n",
       "       [-1.90954137, -3.1668232 , -0.38049977,  1.16192708]])"
      ]
     },
     "execution_count": 90,
     "metadata": {},
     "output_type": "execute_result"
    }
   ],
   "source": [
    "A_inv"
   ]
  },
  {
   "cell_type": "code",
   "execution_count": 91,
   "metadata": {},
   "outputs": [
    {
     "data": {
      "text/plain": [
       "array([[-0.18042961,  1.09676257, -1.71787304, -1.76217688],\n",
       "       [ 0.73221635, -1.20707997,  0.97210027,  3.00539851],\n",
       "       [ 0.57626953,  2.89742112, -1.93660451, -5.66953766],\n",
       "       [-1.90954137, -3.1668232 , -0.38049977,  1.16192708]])"
      ]
     },
     "execution_count": 91,
     "metadata": {},
     "output_type": "execute_result"
    }
   ],
   "source": [
    "np.linalg.inv(A)"
   ]
  },
  {
   "cell_type": "markdown",
   "metadata": {},
   "source": [
    "\n",
    "---\n",
    "# Computing the inverse via row reduction\n",
    "---\n"
   ]
  },
  {
   "cell_type": "code",
   "execution_count": 92,
   "metadata": {},
   "outputs": [
    {
     "name": "stdout",
     "output_type": "stream",
     "text": [
      "Size of Aaug: (4, 8)\n"
     ]
    }
   ],
   "source": [
    "m = 4\n",
    "\n",
    "A = Matrix(np.random.randn(m, m), dtype='float')\n",
    "\n",
    "# Augmented matrix\n",
    "Aaug = Matrix(np.concatenate((A, np.eye(m)), axis=1))\n",
    "print('Size of Aaug:',Aaug.shape)\n",
    "\n",
    "Asol = Aaug.rref()[0]\n",
    "Ainvrref = Asol[:,m:m*2]\n",
    "Ainv = A.inv()"
   ]
  },
  {
   "cell_type": "code",
   "execution_count": 93,
   "metadata": {},
   "outputs": [
    {
     "data": {
      "image/png": "[encoded data removed]",
      "text/plain": [
       "<Figure size 432x288 with 2 Axes>"
      ]
     },
     "metadata": {
      "needs_background": "light"
     },
     "output_type": "display_data"
    }
   ],
   "source": [
    "plt.subplot(211)\n",
    "plt.imshow(matrix2numpy(Aaug, dtype='float'), vmin=-5, vmax=5)\n",
    "plt.title('A|I'), plt.axis('off')\n",
    "plt.subplot(212)\n",
    "plt.imshow(matrix2numpy(Asol,dtype='float'))\n",
    "plt.title('I|A$^{-1}$'), plt.axis('off')\n",
    "\n",
    "plt.show()"
   ]
  },
  {
   "cell_type": "code",
   "execution_count": 94,
   "metadata": {},
   "outputs": [
    {
     "data": {
      "image/png": "[encoded data removed]",
      "text/plain": [
       "<Figure size 432x288 with 3 Axes>"
      ]
     },
     "metadata": {
      "needs_background": "light"
     },
     "output_type": "display_data"
    }
   ],
   "source": [
    "# square matrices\n",
    "plt.subplot(131)\n",
    "plt.imshow(matrix2numpy(A, dtype='float'))\n",
    "plt.title('Matrix A')\n",
    "plt.axis('off')\n",
    "\n",
    "plt.subplot(132)\n",
    "plt.imshow(matrix2numpy(Ainvrref, dtype='float'))\n",
    "plt.title('A$^{-1}$ from rref')\n",
    "plt.axis('off')\n",
    "\n",
    "plt.subplot(133)\n",
    "plt.imshow(matrix2numpy(Ainv,dtype='float'))\n",
    "plt.title('A$^{-1}$ from inv()')\n",
    "plt.axis('off')\n",
    "plt.show()"
   ]
  },
  {
   "cell_type": "markdown",
   "metadata": {},
   "source": [
    "---\n",
    "### Code challange: Inverse of a diagonal matrix\n",
    "---"
   ]
  },
  {
   "cell_type": "code",
   "execution_count": 95,
   "metadata": {},
   "outputs": [],
   "source": [
    "def inverse(mat):\n",
    "    m = mat.shape[0]\n",
    "    A = Matrix(np.concatenate((mat, np.eye(m)), axis=1))\n",
    "    Asol = A.rref()[0]\n",
    "    Ainvrref = Asol[:, m:m*2]\n",
    "    return Ainvrref"
   ]
  },
  {
   "cell_type": "code",
   "execution_count": 96,
   "metadata": {},
   "outputs": [
    {
     "data": {
      "text/latex": [
       "$\\displaystyle \\left[\\begin{matrix}0.333333333333333 & 0\\\\0 & 0.25\\end{matrix}\\right]$"
      ],
      "text/plain": [
       "Matrix([\n",
       "[0.333333333333333,    0],\n",
       "[                0, 0.25]])"
      ]
     },
     "execution_count": 96,
     "metadata": {},
     "output_type": "execute_result"
    }
   ],
   "source": [
    "# All the coresponding elements in the inverse matrix is reciprocal of the element.\n",
    "# A [a 0] \n",
    "#   [0 d]\n",
    "# A^-1 = [1/a 0]\n",
    "#        [0 1/d]\n",
    "\n",
    "A = np.diag((3, 4))\n",
    "inverse(A)"
   ]
  },
  {
   "cell_type": "code",
   "execution_count": 97,
   "metadata": {},
   "outputs": [
    {
     "data": {
      "text/latex": [
       "$\\displaystyle \\left[\\begin{matrix}1.0 & 0 & 0 & 0 & 0\\\\0 & 0.5 & 0 & 0 & 0\\\\0 & 0 & 0.333333333333333 & 0 & 0\\\\0 & 0 & 0 & 0.25 & 0\\\\0 & 0 & 0 & 0 & 0.2\\end{matrix}\\right]$"
      ],
      "text/plain": [
       "Matrix([\n",
       "[1.0,   0,                 0,    0,   0],\n",
       "[  0, 0.5,                 0,    0,   0],\n",
       "[  0,   0, 0.333333333333333,    0,   0],\n",
       "[  0,   0,                 0, 0.25,   0],\n",
       "[  0,   0,                 0,    0, 0.2]])"
      ]
     },
     "execution_count": 97,
     "metadata": {},
     "output_type": "execute_result"
    }
   ],
   "source": [
    "B = np.diag(np.arange(1,6))\n",
    "inverse(B)"
   ]
  },
  {
   "cell_type": "code",
   "execution_count": 98,
   "metadata": {},
   "outputs": [
    {
     "name": "stdout",
     "output_type": "stream",
     "text": [
      "Original Diagonal Matrix\n",
      "[[1 0 0]\n",
      " [0 2 0]\n",
      " [0 0 3]]\n",
      "\n",
      "Diagonal Matrix * Diagonal elements\n",
      "[[1 0 0]\n",
      " [0 4 0]\n",
      " [0 0 9]]\n",
      "\n",
      "Diagonal Mat * Inverse Diag Mat\n",
      "[[1.00000000000000 0 0]\n",
      " [0 1.00000000000000 0]\n",
      " [0 0 1.00000000000000]]\n"
     ]
    }
   ],
   "source": [
    "C = np.diag(np.arange(1, 4))\n",
    "Cdiag = np.diag(C)\n",
    "Cinv = np.array(inverse(C))\n",
    "print('Original Diagonal Matrix')\n",
    "print(C)\n",
    "# elements will be squared as diagonal elements will mul with \n",
    "print('\\nDiagonal Matrix * Diagonal elements')\n",
    "print(C * Cdiag)\n",
    "\n",
    "print('\\nDiagonal Mat * Inverse Diag Mat')\n",
    "print(C * Cinv)"
   ]
  },
  {
   "cell_type": "markdown",
   "metadata": {},
   "source": [
    "---\n",
    "# Left inverse and right inverse\n",
    "---\n"
   ]
  },
  {
   "cell_type": "code",
   "execution_count": 99,
   "metadata": {},
   "outputs": [
    {
     "name": "stdout",
     "output_type": "stream",
     "text": [
      "Shape of A^TA: (3, 3)\n",
      "Rank of A^TA: 3\n",
      "Shape of AA^T: (6, 6)\n",
      "Rank of AA^T: 3\n",
      "[[ 1.00000000e+00  8.32667268e-17 -5.55111512e-17]\n",
      " [ 2.77555756e-17  1.00000000e+00 -5.55111512e-16]\n",
      " [ 2.77555756e-17  1.38777878e-17  1.00000000e+00]]\n",
      " \n",
      "[[ 0.74950633  0.253738    0.36396655 -0.84841001  0.68186802 -0.08921154]\n",
      " [-1.10049239  0.06763993 -0.830134    0.06657302 -0.40370578  0.13701099]\n",
      " [ 0.70810063 -0.25935554  0.83905757  0.90845041 -0.77947866 -0.51756477]\n",
      " [-0.57544865  0.52657301 -0.85343413 -1.48946885  0.87264567  0.31667472]\n",
      " [-0.31046667  0.15985125 -0.36842405 -0.45083156  0.26225812  0.14634337]\n",
      " [-0.08684359 -0.58508376  0.32846526  1.5805499  -0.82076478  0.00985293]]\n",
      " \n",
      "[[ 1.00000000e+00 -4.79357535e-18 -2.78700619e-17]\n",
      " [-5.16435976e-18  1.00000000e+00 -2.94777301e-16]\n",
      " [-7.64192295e-18  3.52354894e-17  1.00000000e+00]]\n",
      " \n",
      "[[ 0.     -1.      4.     -4.     -1.5     2.75  ]\n",
      " [-0.5     0.      2.25   -2.5    -0.875   2.5   ]\n",
      " [ 0.125   1.      1.      0.5    -0.25   -2.3125]\n",
      " [-0.0625 -0.5    -1.      0.5     0.     -0.5   ]\n",
      " [ 0.      4.      4.      0.      0.     -5.5   ]\n",
      " [ 0.      0.      2.     -1.     -0.5    -0.25  ]]\n"
     ]
    }
   ],
   "source": [
    "# m>n for left inverse,\n",
    "# m<n for right inverse\n",
    "m = 6\n",
    "n = 3\n",
    "\n",
    "# Create matrices\n",
    "A = np.random.randn(m, n)\n",
    "AtA = A.T @ A\n",
    "AAt = A @ A.T\n",
    "\n",
    "# inspect ranks\n",
    "print('Shape of A^TA:', np.shape(AtA) )\n",
    "print('Rank of A^TA:', np.linalg.matrix_rank(AtA) )\n",
    "print('Shape of AA^T:', np.shape(AAt) )\n",
    "print('Rank of AA^T:', np.linalg.matrix_rank(AAt) ) \n",
    "\n",
    "# Left inverse\n",
    "Aleft = np.linalg.inv(AtA) @ A.T\n",
    "\n",
    "# Right inverse\n",
    "Aright = A.T @ np.linalg.inv(AAt)\n",
    "\n",
    "# Now test!\n",
    "I_left = Aleft @ A\n",
    "I_right = A @ Aright\n",
    "\n",
    "print(I_left), print(' ')\n",
    "print(I_right), print(' ')\n",
    "\n",
    "AtA_inv = np.linalg.inv(AtA)\n",
    "AAt_inv = np.linalg.inv(AAt)\n",
    "\n",
    "I_AtA   = AtA_inv @ AtA\n",
    "I_AAt   = AAt_inv @ AAt\n",
    "\n",
    "print(I_AtA), print(' ')\n",
    "print(I_AAt)"
   ]
  },
  {
   "cell_type": "code",
   "execution_count": 100,
   "metadata": {},
   "outputs": [
    {
     "data": {
      "image/png": "[encoded data removed]",
      "text/plain": [
       "<Figure size 432x288 with 7 Axes>"
      ]
     },
     "metadata": {
      "needs_background": "light"
     },
     "output_type": "display_data"
    }
   ],
   "source": [
    "## show images\n",
    "plt.subplot(331)\n",
    "plt.imshow(A), plt.axis('off')\n",
    "plt.title('A')\n",
    "\n",
    "plt.subplot(332)\n",
    "plt.imshow(AtA), plt.axis('off')\n",
    "plt.title('A$^T$A')\n",
    "\n",
    "plt.subplot(333)\n",
    "plt.imshow(AAt), plt.axis('off')\n",
    "plt.title('AA$^T$')\n",
    "\n",
    "plt.subplot(335)\n",
    "plt.imshow(Aleft), plt.axis('off')\n",
    "plt.title('$(A^TA)^{-1}A^T$')\n",
    "\n",
    "plt.subplot(336)\n",
    "plt.imshow(Aright), plt.axis('off')\n",
    "plt.title('$A^T(AA^T)^{-1}$')\n",
    "\n",
    "plt.subplot(338)\n",
    "plt.imshow(I_left), plt.axis('off')\n",
    "plt.title('[ $(A^TA)^{-1}A^T ]$  A')\n",
    "\n",
    "plt.subplot(339)\n",
    "plt.imshow(I_right), plt.axis('off')\n",
    "plt.title('A  [ $A^T(AA^T)^{-1}$ ]')\n",
    "\n",
    "plt.show()"
   ]
  },
  {
   "cell_type": "markdown",
   "metadata": {},
   "source": [
    "\n",
    "---\n",
    "# The pseudoinverse, part 1\n",
    "---\n"
   ]
  },
  {
   "cell_type": "code",
   "execution_count": 101,
   "metadata": {},
   "outputs": [
    {
     "data": {
      "image/png": "[encoded data removed]",
      "text/plain": [
       "<Figure size 432x288 with 3 Axes>"
      ]
     },
     "metadata": {
      "needs_background": "light"
     },
     "output_type": "display_data"
    }
   ],
   "source": [
    "pseudoInvA = np.linalg.pinv(A)\n",
    "\n",
    "plt.subplot(131)\n",
    "plt.imshow(A), plt.axis('off')\n",
    "plt.title('A')\n",
    "\n",
    "plt.subplot(132)\n",
    "plt.imshow(pseudoInvA), plt.axis('off')\n",
    "plt.title('Pseudoinverse of A')\n",
    "\n",
    "plt.subplot(133)\n",
    "plt.imshow(pseudoInvA@A), plt.axis('off')\n",
    "plt.title('A$^*$A')\n",
    "\n",
    "plt.show()"
   ]
  },
  {
   "cell_type": "code",
   "execution_count": 102,
   "metadata": {},
   "outputs": [
    {
     "name": "stdout",
     "output_type": "stream",
     "text": [
      "rank = 49\n"
     ]
    }
   ],
   "source": [
    "# create random matrix\n",
    "n = 50\n",
    "A = np.random.randn(n,n)\n",
    "\n",
    "# make rank deficient by repeating a column\n",
    "A[:,n-1] = A[:,n-2]\n",
    "\n",
    "# rank of A!\n",
    "print('rank =',np.linalg.matrix_rank(A))"
   ]
  },
  {
   "cell_type": "code",
   "execution_count": 106,
   "metadata": {},
   "outputs": [
    {
     "data": {
      "image/png": "[encoded data removed]",
      "text/plain": [
       "<Figure size 432x288 with 4 Axes>"
      ]
     },
     "metadata": {
      "needs_background": "light"
     },
     "output_type": "display_data"
    }
   ],
   "source": [
    "# compute the pseudoinverse\n",
    "Ai = np.linalg.pinv(A)\n",
    "\n",
    "\n",
    "# and show the matrices\n",
    "plt.subplot(221)\n",
    "plt.imshow(A), plt.axis('off')\n",
    "plt.title('A')\n",
    "\n",
    "plt.subplot(222)\n",
    "plt.imshow(Ai), plt.axis('off')\n",
    "plt.title('A$^*$')\n",
    "\n",
    "plt.subplot(223)\n",
    "plt.imshow(Ai@A), plt.axis('off')\n",
    "plt.title('A$^*$A')\n",
    "\n",
    "plt.subplot(224)\n",
    "plt.imshow(A@Ai), plt.axis('off')\n",
    "plt.title('AA$^*$')\n",
    "\n",
    "plt.show()"
   ]
  },
  {
   "cell_type": "markdown",
   "metadata": {},
   "source": [
    "---\n",
    "### Code challange: pseudo inverse of invertible matrix\n",
    "---"
   ]
  },
  {
   "cell_type": "code",
   "execution_count": 104,
   "metadata": {},
   "outputs": [
    {
     "name": "stdout",
     "output_type": "stream",
     "text": [
      "[[ 0.078 -0.191 -0.673]\n",
      " [-0.188  0.546 -0.476]\n",
      " [-0.529 -0.109  0.257]]\n",
      " \n",
      "[[ 0.078 -0.191 -0.673]\n",
      " [-0.188  0.546 -0.476]\n",
      " [-0.529 -0.109  0.257]]\n",
      " \n",
      "[[ 0.  0.  0.]\n",
      " [ 0.  0. -0.]\n",
      " [ 0.  0. -0.]]\n"
     ]
    }
   ],
   "source": [
    "m = 3\n",
    "W = np.random.randn(m, m)\n",
    "Winv = np.linalg.inv(W)\n",
    "Wpinv = np.linalg.pinv(W)\n",
    "print(np.round(Winv, 3))\n",
    "print(' ')\n",
    "print(np.round(Wpinv, 3))\n",
    "print(' ')\n",
    "print(np.round((Winv - Wpinv), 5))"
   ]
  }
 ],
 "metadata": {
  "kernelspec": {
   "display_name": "Python 3",
   "language": "python",
   "name": "python3"
  },
  "language_info": {
   "codemirror_mode": {
    "name": "ipython",
    "version": 3
   },
   "file_extension": ".py",
   "mimetype": "text/x-python",
   "name": "python",
   "nbconvert_exporter": "python",
   "pygments_lexer": "ipython3",
   "version": "3.8.3"
  }
 },
 "nbformat": 4,
 "nbformat_minor": 4
}
