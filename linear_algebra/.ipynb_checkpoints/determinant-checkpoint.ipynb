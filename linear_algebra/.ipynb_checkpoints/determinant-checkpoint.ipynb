{
 "cells": [
  {
   "cell_type": "code",
   "execution_count": 63,
   "metadata": {},
   "outputs": [],
   "source": [
    "import numpy as np\n",
    "import matplotlib.pyplot as plt\n",
    "import matplotlib as mpl\n",
    "\n",
    "mpl.rcParams['text.color'] = 'red'\n",
    "mpl.rcParams['xtick.color'] = 'r'\n",
    "mpl.rcParams['ytick.color'] = 'r'\n",
    "mpl.rcParams['axes.labelcolor'] = 'red'"
   ]
  },
  {
   "cell_type": "markdown",
   "metadata": {},
   "source": [
    "---\n",
    "### Code challange: Determinant of small and large singular matrices\n",
    "---"
   ]
  },
  {
   "cell_type": "code",
   "execution_count": 64,
   "metadata": {},
   "outputs": [
    {
     "name": "stdout",
     "output_type": "stream",
     "text": [
      "rank : 1\n",
      "det(A) : 0.0\n"
     ]
    }
   ],
   "source": [
    "# matrix with linear dependency\n",
    "A = np.array([[1, 3],\n",
    "              [1, 3]])\n",
    "\n",
    "print('rank :', np.linalg.matrix_rank(A))\n",
    "print('det(A) :', np.linalg.det(A))"
   ]
  },
  {
   "cell_type": "code",
   "execution_count": 65,
   "metadata": {},
   "outputs": [
    {
     "name": "stdout",
     "output_type": "stream",
     "text": [
      "Before linear dependency (rank) : 4\n",
      "Before linear dependency det(B) : -1.5326935649520235\n",
      "After linear dependency (rank)  : 3\n",
      "After linear dependency  det(B) : 1.024903420680529e-16\n"
     ]
    }
   ],
   "source": [
    "# generate mxm matrix\n",
    "m = 4\n",
    "B = np.random.randn(m, m)\n",
    "print('Before linear dependency (rank) :', np.linalg.matrix_rank(B))\n",
    "print('Before linear dependency det(B) :', np.linalg.det(B))\n",
    "# imposing linear dependency\n",
    "B[:,1] = 5*B[:, 2] + 3*B[:, 3]\n",
    "\n",
    "print('After linear dependency (rank)  :', np.linalg.matrix_rank(B))\n",
    "print('After linear dependency  det(B) :', np.linalg.det(B))"
   ]
  },
  {
   "cell_type": "code",
   "execution_count": 66,
   "metadata": {},
   "outputs": [
    {
     "name": "stdout",
     "output_type": "stream",
     "text": [
      "Before linear dependency (rank) : 20\n",
      "After linear dependency (rank)  : 18\n"
     ]
    }
   ],
   "source": [
    "# generate mxm matrix\n",
    "m = 20\n",
    "C = np.round(1000*np.random.randn(m, m))\n",
    "print('Before linear dependency (rank) :', np.linalg.matrix_rank(C))\n",
    "# imposing linear dependency\n",
    "C[:,1] = 5*C[:, 4] + 3*C[:, 3]\n",
    "C[:,2] = 8*C[:, 4] + 3*C[:, 5]\n",
    "\n",
    "print('After linear dependency (rank)  :', np.linalg.matrix_rank(C))"
   ]
  },
  {
   "cell_type": "markdown",
   "metadata": {},
   "source": [
    "---\n",
    "### Code challange: Large matices with row exchange\n",
    "---"
   ]
  },
  {
   "cell_type": "code",
   "execution_count": 67,
   "metadata": {},
   "outputs": [
    {
     "name": "stdout",
     "output_type": "stream",
     "text": [
      "det(D) : -1.2274018055588647\n",
      "det(Ds) : 1.2274018055588647\n",
      "det(Dss) : -1.2274018055588647\n"
     ]
    }
   ],
   "source": [
    "m = 6\n",
    "D = np.random.randn(m, m)\n",
    "print('det(D) :', np.linalg.det(D))\n",
    "\n",
    "# Swapping row 1 and 2\n",
    "Ds = D[[1, 0, 2, 3, 4, 5], :] \n",
    "print('det(Ds) :', np.linalg.det(Ds))\n",
    "\n",
    "Dss = D[[1, 0, 3, 2, 4, 5], :] \n",
    "print('det(Dss) :', np.linalg.det(Dss))\n",
    "# here we can see that after chaging 1 row determenant sing flips\n",
    "# and after 2 row changes determinant get backs to the original sign"
   ]
  },
  {
   "cell_type": "markdown",
   "metadata": {},
   "source": [
    "---\n",
    "### Code challange: Determinant of shifted matrices\n",
    "---"
   ]
  },
  {
   "cell_type": "code",
   "execution_count": 68,
   "metadata": {},
   "outputs": [],
   "source": [
    "def determinant(size, lam) -> float:\n",
    "    M = np.random.randn(size, size)\n",
    "    M[:,0] = M[:,1]\n",
    "    M_shifted = M + np.eye(size)*lam\n",
    "    return np.linalg.det(M_shifted)"
   ]
  },
  {
   "cell_type": "code",
   "execution_count": 85,
   "metadata": {},
   "outputs": [],
   "source": [
    "m = 20\n",
    "n = 30\n",
    "lams = np.linspace(0, 0.1, n)\n",
    "avg_det = [0] * n\n",
    "for i, lam in enumerate(lams):\n",
    "    for j in range(1000):\n",
    "        avg_det[i] += abs(determinant(m, lam))\n",
    "    avg_det[i] = np.mean(avg_det[i])"
   ]
  },
  {
   "cell_type": "code",
   "execution_count": 86,
   "metadata": {},
   "outputs": [
    {
     "data": {
      "text/plain": [
       "[2.7509571620078806e-05,\n",
       " 693753839.5921,\n",
       " 1503113955.4308412,\n",
       " 2319484656.006696,\n",
       " 2748902453.3387322,\n",
       " 3201313819.1834908,\n",
       " 4583727295.048602,\n",
       " 5176450069.198706,\n",
       " 5970805611.906667,\n",
       " 6798481347.351085,\n",
       " 6945315583.278598,\n",
       " 8677527369.878819,\n",
       " 8433363027.200151,\n",
       " 8676643867.944733,\n",
       " 10124139805.316572,\n",
       " 10441428749.877865,\n",
       " 13387158525.03655,\n",
       " 12299534176.954197,\n",
       " 13415783062.910715,\n",
       " 13649540434.428242,\n",
       " 14728515389.001991,\n",
       " 16166086932.954893,\n",
       " 15554100412.077946,\n",
       " 15816484056.053349,\n",
       " 14751024268.878517,\n",
       " 17456117661.994907,\n",
       " 19292549964.77394,\n",
       " 20174234973.09987,\n",
       " 20409279187.333218,\n",
       " 18611520694.587402]"
      ]
     },
     "execution_count": 86,
     "metadata": {},
     "output_type": "execute_result"
    }
   ],
   "source": [
    "avg_det"
   ]
  },
  {
   "cell_type": "code",
   "execution_count": 87,
   "metadata": {},
   "outputs": [
    {
     "data": {
      "image/png": "[encoded data removed]",
      "text/plain": [
       "<Figure size 432x288 with 1 Axes>"
      ]
     },
     "metadata": {
      "needs_background": "light"
     },
     "output_type": "display_data"
    }
   ],
   "source": [
    "plt.plot(lams, avg_det, 's-')\n",
    "plt.ylabel('determinant')\n",
    "plt.xlabel('Fraction of identity for shifting')\n",
    "plt.grid()\n",
    "plt.show()"
   ]
  },
  {
   "cell_type": "markdown",
   "metadata": {},
   "source": [
    "---\n",
    "### Code challange: Determinant of matrix product\n",
    "---"
   ]
  },
  {
   "cell_type": "code",
   "execution_count": 96,
   "metadata": {},
   "outputs": [
    {
     "name": "stdout",
     "output_type": "stream",
     "text": [
      "det(A)       : 0.19417526178348618\n",
      "det(B)       : 0.6363497616393858\n",
      "det(AB)      : 0.1235633815521843\n",
      "det(A)*det(B): 0.12356338155218678\n"
     ]
    }
   ],
   "source": [
    "k = 3\n",
    "A = np.random.randn(k, k)\n",
    "B = np.random.randn(k, k)\n",
    "\n",
    "AB = A @ B\n",
    "print(f'det(A)       : {np.linalg.det(A)}')\n",
    "print(f'det(B)       : {np.linalg.det(B)}')\n",
    "print(f'det(AB)      : {np.linalg.det(AB)}')\n",
    "print(f'det(A)*det(B): {np.linalg.det(A) * np.linalg.det(B)}')"
   ]
  },
  {
   "cell_type": "code",
   "execution_count": 103,
   "metadata": {},
   "outputs": [],
   "source": [
    "k = 40\n",
    "dets = np.zeros((k, 2))\n",
    "for i in range(1, k):\n",
    "    A = np.random.randn(i, i)\n",
    "    B = np.random.randn(i, i)\n",
    "    AB = A @ B\n",
    "    dets[i-1,:] = [np.linalg.det(A)*np.linalg.det(B), np.linalg.det(AB)]"
   ]
  },
  {
   "cell_type": "code",
   "execution_count": 122,
   "metadata": {},
   "outputs": [
    {
     "data": {
      "text/plain": [
       "(-1.0, 1.0)"
      ]
     },
     "execution_count": 122,
     "metadata": {},
     "output_type": "execute_result"
    },
    {
     "data": {
      "image/png": "[encoded data removed]",
      "text/plain": [
       "<Figure size 432x288 with 1 Axes>"
      ]
     },
     "metadata": {
      "needs_background": "light"
     },
     "output_type": "display_data"
    }
   ],
   "source": [
    "plt.plot(dets[:,0]-dets[:,1],'s-')\n",
    "plt.grid()\n",
    "plt.ylim([-1, 1])"
   ]
  },
  {
   "cell_type": "code",
   "execution_count": null,
   "metadata": {},
   "outputs": [],
   "source": []
  },
  {
   "cell_type": "code",
   "execution_count": null,
   "metadata": {},
   "outputs": [],
   "source": []
  }
 ],
 "metadata": {
  "kernelspec": {
   "display_name": "Python 3",
   "language": "python",
   "name": "python3"
  },
  "language_info": {
   "codemirror_mode": {
    "name": "ipython",
    "version": 3
   },
   "file_extension": ".py",
   "mimetype": "text/x-python",
   "name": "python",
   "nbconvert_exporter": "python",
   "pygments_lexer": "ipython3",
   "version": "3.8.3"
  }
 },
 "nbformat": 4,
 "nbformat_minor": 4
}
