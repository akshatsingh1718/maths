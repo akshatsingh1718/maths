{
 "cells": [
  {
   "cell_type": "code",
   "execution_count": 1,
   "metadata": {},
   "outputs": [],
   "source": [
    "import numpy as np\n",
    "import matplotlib.pyplot as plt\n",
    "from sympy import *\n",
    "import matplotlib as mpl\n",
    "\n",
    "mpl.rcParams['text.color'] = 'red'\n",
    "mpl.rcParams['xtick.color'] = 'r'\n",
    "mpl.rcParams['ytick.color'] = 'r'\n",
    "mpl.rcParams['axes.labelcolor'] = 'red'"
   ]
  },
  {
   "cell_type": "markdown",
   "metadata": {},
   "source": [
    "---\n",
    "# Concept and uses of the inverse\n",
    "---"
   ]
  },
  {
   "cell_type": "code",
   "execution_count": 2,
   "metadata": {},
   "outputs": [
    {
     "name": "stdout",
     "output_type": "stream",
     "text": [
      "[[ 1.00000000e+00 -4.76449261e-17 -2.36415733e-17]\n",
      " [ 7.58310011e-18  1.00000000e+00 -4.33441218e-18]\n",
      " [-1.49664427e-17 -1.18253701e-17  1.00000000e+00]]\n"
     ]
    }
   ],
   "source": [
    "m = 3\n",
    "A = np.random.randn(m, m)\n",
    "Ainv = np.linalg.inv(A)\n",
    "idm = A @ Ainv\n",
    "print(idm)\n",
    "# Here we can see that diagonal elemnts are 1's and non diagonal elements are either 0 \n",
    "# or very small values which are very closer to zero or computer rounding precesion error"
   ]
  },
  {
   "cell_type": "code",
   "execution_count": 4,
   "metadata": {},
   "outputs": [
    {
     "data": {
      "image/png": "[encoded data removed]",
      "text/plain": [
       "<Figure size 432x288 with 3 Axes>"
      ]
     },
     "metadata": {
      "needs_background": "light"
     },
     "output_type": "display_data"
    }
   ],
   "source": [
    "plt.subplot(131)\n",
    "plt.imshow(A)\n",
    "plt.title('Matrix A')\n",
    "\n",
    "plt.subplot(132)\n",
    "plt.imshow(Ainv)\n",
    "plt.title('Matrix A$^{-1}$')\n",
    "\n",
    "plt.subplot(133)\n",
    "\n",
    "plt.imshow(idm)\n",
    "plt.title('A @ A$^{-1}$')\n",
    "\n",
    "plt.show()"
   ]
  },
  {
   "cell_type": "code",
   "execution_count": 5,
   "metadata": {},
   "outputs": [
    {
     "data": {
      "text/plain": [
       "(3, 3)"
      ]
     },
     "execution_count": 5,
     "metadata": {},
     "output_type": "execute_result"
    }
   ],
   "source": []
  },
  {
   "cell_type": "markdown",
   "metadata": {},
   "source": [
    "---\n",
    "### Code challange: MCA implementation\n",
    "---"
   ]
  },
  {
   "cell_type": "code",
   "execution_count": 22,
   "metadata": {},
   "outputs": [],
   "source": [
    "def MCA(mat):\n",
    "    det = np.linalg.det(mat)\n",
    "    if det == 0:\n",
    "        return -1\n",
    "    # minors matrix\n",
    "    M = np.zeros(mat.shape)\n",
    "    H = np.zeros(mat.shape)\n",
    "    for i in range(len(mat)):\n",
    "        for j in range(len(mat)):\n",
    "            rows = [True]* len(mat)\n",
    "            rows[i] = False\n",
    "            cols = [True]* len(mat)\n",
    "            cols[j] = False\n",
    "            M[i,j] = np.linalg.det(mat[rows,:][:,cols])\n",
    "            H[i,j] = (-1)**(i+j)\n",
    "    C = H * M\n",
    "    return C.T / det"
   ]
  },
  {
   "cell_type": "code",
   "execution_count": 23,
   "metadata": {},
   "outputs": [
    {
     "data": {
      "text/plain": [
       "array([[4, 6],\n",
       "       [7, 9]])"
      ]
     },
     "execution_count": 23,
     "metadata": {},
     "output_type": "execute_result"
    }
   ],
   "source": [
    "# How above code is working\n",
    "A = np.array([\n",
    "    [1, 2, 3],\n",
    "    [4, 5, 6],\n",
    "    [7, 8, 9]\n",
    "])\n",
    "\n",
    "row = np.array([False, True, True])\n",
    "col = np.array([True, False, True])\n",
    "A[row,:][:,col]"
   ]
  },
  {
   "cell_type": "code",
   "execution_count": 30,
   "metadata": {},
   "outputs": [
    {
     "name": "stdout",
     "output_type": "stream",
     "text": [
      "[[ 1.00000000e+00  2.77555756e-17  0.00000000e+00  0.00000000e+00]\n",
      " [ 1.38777878e-17  1.00000000e+00  0.00000000e+00 -1.66533454e-16]\n",
      " [ 0.00000000e+00 -3.12250226e-17  1.00000000e+00  5.55111512e-17]\n",
      " [ 1.38777878e-17  0.00000000e+00  0.00000000e+00  1.00000000e+00]]\n"
     ]
    }
   ],
   "source": [
    "m = 4\n",
    "A = np.random.randn(m, m)\n",
    "A_inv = MCA(A)\n",
    "print(A @ A_inv)"
   ]
  },
  {
   "cell_type": "code",
   "execution_count": 31,
   "metadata": {},
   "outputs": [
    {
     "name": "stdout",
     "output_type": "stream",
     "text": [
      "[[ 1.11022302e-16  0.00000000e+00  0.00000000e+00 -2.22044605e-16]\n",
      " [ 0.00000000e+00 -1.38777878e-17  0.00000000e+00  0.00000000e+00]\n",
      " [ 0.00000000e+00  0.00000000e+00  0.00000000e+00  1.66533454e-16]\n",
      " [ 0.00000000e+00 -2.77555756e-17  0.00000000e+00  1.11022302e-16]]\n"
     ]
    }
   ],
   "source": [
    "print(np.linalg.inv(A) - A_inv)"
   ]
  },
  {
   "cell_type": "code",
   "execution_count": 28,
   "metadata": {},
   "outputs": [
    {
     "data": {
      "text/plain": [
       "array([[ 0.60403584,  0.00889103, -0.17659199,  0.39239064],\n",
       "       [-1.54977097, -0.43093383,  0.66114447,  0.57884888],\n",
       "       [-1.4702789 , -0.24380874, -0.18379338,  1.13642335],\n",
       "       [ 0.7175494 , -0.20125609, -0.38124565, -0.24335132]])"
      ]
     },
     "execution_count": 28,
     "metadata": {},
     "output_type": "execute_result"
    }
   ],
   "source": [
    "A_inv"
   ]
  },
  {
   "cell_type": "code",
   "execution_count": 29,
   "metadata": {},
   "outputs": [
    {
     "data": {
      "text/plain": [
       "array([[ 0.60403584,  0.00889103, -0.17659199,  0.39239064],\n",
       "       [-1.54977097, -0.43093383,  0.66114447,  0.57884888],\n",
       "       [-1.4702789 , -0.24380874, -0.18379338,  1.13642335],\n",
       "       [ 0.7175494 , -0.20125609, -0.38124565, -0.24335132]])"
      ]
     },
     "execution_count": 29,
     "metadata": {},
     "output_type": "execute_result"
    }
   ],
   "source": [
    "np.linalg.inv(A)"
   ]
  },
  {
   "cell_type": "code",
   "execution_count": null,
   "metadata": {},
   "outputs": [],
   "source": []
  }
 ],
 "metadata": {
  "kernelspec": {
   "display_name": "Python 3",
   "language": "python",
   "name": "python3"
  },
  "language_info": {
   "codemirror_mode": {
    "name": "ipython",
    "version": 3
   },
   "file_extension": ".py",
   "mimetype": "text/x-python",
   "name": "python",
   "nbconvert_exporter": "python",
   "pygments_lexer": "ipython3",
   "version": "3.8.3"
  }
 },
 "nbformat": 4,
 "nbformat_minor": 4
}
