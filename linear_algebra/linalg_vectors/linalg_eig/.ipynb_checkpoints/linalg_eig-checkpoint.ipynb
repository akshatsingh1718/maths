{
 "cells": [
  {
   "cell_type": "code",
   "execution_count": 1,
   "metadata": {},
   "outputs": [],
   "source": [
    "import numpy as np\n",
    "import matplotlib.pyplot as plt\n",
    "from sympy import *\n",
    "from mpl_toolkits.mplot3d import Axes3D"
   ]
  },
  {
   "cell_type": "markdown",
   "metadata": {},
   "source": [
    "\n",
    "---\n",
    "# VIDEO: Finding eigenvalues\n",
    "---\n"
   ]
  },
  {
   "cell_type": "code",
   "execution_count": 2,
   "metadata": {},
   "outputs": [
    {
     "name": "stdout",
     "output_type": "stream",
     "text": [
      "[-1.31662479  5.31662479]\n"
     ]
    },
    {
     "data": {
      "image/png": "[encoded data removed]",
      "text/plain": [
       "<Figure size 432x288 with 1 Axes>"
      ]
     },
     "metadata": {
      "needs_background": "light"
     },
     "output_type": "display_data"
    }
   ],
   "source": [
    "# matrix\n",
    "A = [ [1,5], [2,3] ]\n",
    "\n",
    "# extract the eigenvalues\n",
    "eigvals = np.linalg.eig(A)\n",
    "\n",
    "# note that the eigenvalues are in the first element of eigvals:\n",
    "print(eigvals[0])\n",
    "\n",
    "\n",
    "# specify two vectors\n",
    "v1 = np.array([ 1,1 ])    # is an eigenvector!\n",
    "v2 = np.random.randn(2,1) # unlikely to be an eigenvector\n",
    "v2 = v2/np.linalg.norm(v2)# unit length for convenience\n",
    "\n",
    "# compute Av\n",
    "Av1 = A@v1\n",
    "Av2 = A@v2\n",
    "\n",
    "\n",
    "# plot the vectors and Av\n",
    "plt.plot([0,v1[0]] ,[0,v1[1]],'r')\n",
    "plt.plot([0,Av1[0]],[0,Av1[1]],'r--')\n",
    "plt.plot([0,v2[0]] ,[0,v2[1]],'k')\n",
    "plt.plot([0,Av2[0]],[0,Av2[1]],'k--')\n",
    "\n",
    "plt.axis([-8,8,-8,8])\n",
    "plt.show()\n"
   ]
  },
  {
   "cell_type": "code",
   "execution_count": 3,
   "metadata": {},
   "outputs": [
    {
     "name": "stdout",
     "output_type": "stream",
     "text": [
      "[-3. -1.  3.]\n"
     ]
    }
   ],
   "source": [
    "# confirm eigenvalues for a 3x3 matrix\n",
    "\n",
    "# specify matrix\n",
    "A = [ [-2,  2, -3 ],\n",
    "      [-4,  1, -6 ],\n",
    "      [-1, -2,  0 ]  ]\n",
    "\n",
    "# get eigenvalues\n",
    "evals = np.linalg.eig(A)\n",
    "print(evals[0])\n"
   ]
  },
  {
   "cell_type": "code",
   "execution_count": null,
   "metadata": {},
   "outputs": [],
   "source": []
  },
  {
   "cell_type": "markdown",
   "metadata": {},
   "source": [
    "\n",
    "---\n",
    "# VIDEO: Finding eigenvectors\n",
    "---\n"
   ]
  },
  {
   "cell_type": "code",
   "execution_count": 4,
   "metadata": {},
   "outputs": [
    {
     "name": "stdout",
     "output_type": "stream",
     "text": [
      "[ 3. -1.]\n",
      " \n",
      "[[ 0.70710678 -0.70710678]\n",
      " [ 0.70710678  0.70710678]]\n"
     ]
    }
   ],
   "source": [
    "# matrix\n",
    "A = [ [1,2], [2,1] ]\n",
    "\n",
    "# eigenvectors (compare with code above)\n",
    "# note also the differences with MATLAB: different order, evals in vector\n",
    "evals,evecs = np.linalg.eig(A)\n",
    "print(evals), print(' ')\n",
    "print(evecs)"
   ]
  },
  {
   "cell_type": "code",
   "execution_count": 5,
   "metadata": {},
   "outputs": [
    {
     "name": "stdout",
     "output_type": "stream",
     "text": [
      "0.9999999999999999 0.9999999999999999\n"
     ]
    },
    {
     "data": {
      "image/png": "[encoded data removed]",
      "text/plain": [
       "<Figure size 432x288 with 1 Axes>"
      ]
     },
     "metadata": {
      "needs_background": "light"
     },
     "output_type": "display_data"
    }
   ],
   "source": [
    "# compute the norm of each eigenvector\n",
    "mag_v1 = np.sqrt( np.sum( np.square(evecs[:,0])) )\n",
    "mag_v2 = np.sqrt( np.sum( np.square(evecs[:,1])) )\n",
    "print(mag_v1,mag_v2)\n",
    "\n",
    "# plot\n",
    "plt.plot([0,evecs[0,0]],[0,evecs[1,0]],'r',label='v1')\n",
    "plt.plot([0,evecs[0,1]],[0,evecs[1,1]],'k',label='v2')\n",
    "\n",
    "\n",
    "plt.axis([-1,1,-1,1])\n",
    "plt.legend()\n",
    "plt.show()"
   ]
  },
  {
   "cell_type": "markdown",
   "metadata": {},
   "source": [
    "\n",
    "---\n",
    "# VIDEO: Diagonalization\n",
    "---\n"
   ]
  },
  {
   "cell_type": "code",
   "execution_count": 6,
   "metadata": {},
   "outputs": [
    {
     "data": {
      "image/png": "[encoded data removed]",
      "text/plain": [
       "<Figure size 432x288 with 2 Axes>"
      ]
     },
     "metadata": {
      "needs_background": "light"
     },
     "output_type": "display_data"
    },
    {
     "name": "stdout",
     "output_type": "stream",
     "text": [
      "Reconstruction RMS: 3.210098477106432e-13\n"
     ]
    }
   ],
   "source": [
    "## eigendecomposition of A\n",
    "\n",
    "# make a symmetric matrix\n",
    "A = np.round(10*np.random.randn(4,4))\n",
    "A = A.T@A\n",
    "\n",
    "# eigendecomposition\n",
    "evals,evecs = np.linalg.eig(A)\n",
    "\n",
    "# test reconstruction\n",
    "Ap = evecs @ np.diag(evals) @ np.linalg.inv(evecs)\n",
    "\n",
    "\n",
    "# plot\n",
    "plt.subplot(121)\n",
    "plt.imshow(A)\n",
    "plt.axis('off')\n",
    "plt.title('A')\n",
    "\n",
    "plt.subplot(122)\n",
    "plt.imshow(Ap)\n",
    "plt.axis('off')\n",
    "plt.title('$V\\Lambda V^{-1}$')\n",
    "\n",
    "plt.show()\n",
    "\n",
    "# subtract the two (should be zero with rounding errors)\n",
    "recondiff = A-Ap\n",
    "\n",
    "# reconstruction error (note the numerical inaccuracies)\n",
    "rmsA = np.sqrt( np.mean(np.square( np.reshape(recondiff,(1,-1)) )) )\n",
    "\n",
    "print('Reconstruction RMS:', rmsA)\n"
   ]
  },
  {
   "cell_type": "code",
   "execution_count": 7,
   "metadata": {},
   "outputs": [
    {
     "data": {
      "image/png": "[encoded data removed]",
      "text/plain": [
       "<Figure size 432x288 with 4 Axes>"
      ]
     },
     "metadata": {
      "needs_background": "light"
     },
     "output_type": "display_data"
    }
   ],
   "source": [
    "## diagonalization in images\n",
    "\n",
    "# A matrix\n",
    "A = np.random.randn(10,10)\n",
    "A = A.T@A\n",
    "\n",
    "# eigendecomposition\n",
    "D,V = np.linalg.eig(A)\n",
    "\n",
    "# show the results\n",
    "plt.subplot(141)\n",
    "plt.imshow(A)\n",
    "plt.title('A')\n",
    "plt.axis('off')\n",
    "\n",
    "plt.subplot(142)\n",
    "plt.imshow(V)\n",
    "plt.title('V')\n",
    "plt.axis('off')\n",
    "\n",
    "plt.subplot(143)\n",
    "plt.imshow(np.diag(D))\n",
    "plt.title('$\\Lambda$')\n",
    "plt.axis('off')\n",
    "\n",
    "plt.subplot(144)\n",
    "plt.imshow(np.linalg.inv(V))\n",
    "plt.title('$V^{-1}$')\n",
    "plt.axis('off')\n",
    "\n",
    "plt.show()"
   ]
  },
  {
   "cell_type": "markdown",
   "metadata": {},
   "source": [
    "\n",
    "---\n",
    "# VIDEO: Matrix powers via diagonalization\n",
    "---\n"
   ]
  },
  {
   "cell_type": "code",
   "execution_count": 8,
   "metadata": {},
   "outputs": [
    {
     "name": "stdout",
     "output_type": "stream",
     "text": [
      "[[0.14226757 0.06276373]\n",
      " [1.00838453 0.72735837]]\n",
      " \n",
      "[[0.14226757 0.06276373]\n",
      " [1.00838453 0.72735837]]\n"
     ]
    }
   ],
   "source": [
    "## matrix powers\n",
    "\n",
    "A = np.random.rand(2,2)\n",
    "\n",
    "# compute matrix power directly\n",
    "print( np.linalg.matrix_power(A,3) ) # A@A@A\n",
    "print(' ')\n",
    "\n",
    "# and via eigendecomposition\n",
    "D,V = np.linalg.eig(A)\n",
    "D = np.diag(D)\n",
    "\n",
    "# reproduce via diagonalization\n",
    "print(V @ np.linalg.matrix_power(D,3) @ np.linalg.inv(V) )"
   ]
  },
  {
   "cell_type": "code",
   "execution_count": 9,
   "metadata": {},
   "outputs": [
    {
     "name": "stdout",
     "output_type": "stream",
     "text": [
      "[[ 0.57748231  0.79223771  0.19716386]\n",
      " [ 0.59191265 -0.23996728 -0.76945118]\n",
      " [ 0.56227537 -0.56104823  0.60751238]]\n",
      " \n",
      "[[ 0.57748231  0.79223771  0.19716386]\n",
      " [ 0.59191265 -0.23996728 -0.76945118]\n",
      " [ 0.56227537 -0.56104823  0.60751238]]\n"
     ]
    },
    {
     "data": {
      "image/png": "[encoded data removed]",
      "text/plain": [
       "<Figure size 432x288 with 2 Axes>"
      ]
     },
     "metadata": {
      "needs_background": "light"
     },
     "output_type": "display_data"
    }
   ],
   "source": [
    "## eigenvalues of A and A^3\n",
    "\n",
    "# create a symmetric matrix\n",
    "A = np.random.rand(3,3)\n",
    "A = A@A.T\n",
    "\n",
    "D,V   = np.linalg.eig(A)\n",
    "D3,V3 = np.linalg.eig( A@A@A )\n",
    "\n",
    "print(V), print(' ')\n",
    "print(V3)\n",
    "\n",
    "plt.subplot(221)\n",
    "plt.imshow(V)\n",
    "plt.axis('off')\n",
    "plt.title('evecs of A')\n",
    "\n",
    "plt.subplot(223)\n",
    "plt.imshow(V3)\n",
    "plt.axis('off')\n",
    "plt.title('evecs of A^3')\n",
    "\n",
    "plt.show()"
   ]
  },
  {
   "cell_type": "code",
   "execution_count": 10,
   "metadata": {},
   "outputs": [
    {
     "data": {
      "image/png": "[encoded data removed]",
      "text/plain": [
       "<Figure size 432x288 with 1 Axes>"
      ]
     },
     "metadata": {
      "needs_background": "light"
     },
     "output_type": "display_data"
    },
    {
     "data": {
      "image/png": "[encoded data removed]",
      "text/plain": [
       "<Figure size 432x288 with 1 Axes>"
      ]
     },
     "metadata": {
      "needs_background": "light"
     },
     "output_type": "display_data"
    }
   ],
   "source": [
    "## plot the eigenvectors and eigenvalues\n",
    "\n",
    "fig = plt.figure()\n",
    "ax = fig.gca(projection='3d')\n",
    "\n",
    "# plot eigenvectors of A\n",
    "ax.plot([0,V[0,0]],[0,V[1,0]],[0,V[2,0]],'r')\n",
    "ax.plot([0,V[0,1]],[0,V[1,1]],[0,V[2,1]],'k')\n",
    "ax.plot([0,V[0,2]],[0,V[1,2]],[0,V[2,2]],'b')\n",
    "\n",
    "# plot eigenvectors of A^3\n",
    "ax.plot([0,V3[0,0]],[0,V3[1,0]],[0,V3[2,0]],'r--')\n",
    "ax.plot([0,V3[0,1]],[0,V3[1,1]],[0,V3[2,1]],'k--')\n",
    "ax.plot([0,V3[0,2]],[0,V3[1,2]],[0,V3[2,2]],'b--')\n",
    "\n",
    "plt.show()\n",
    "\n",
    "## show the eigenvalues\n",
    "plt.plot([1,2,3],D,'bs-',label='A')\n",
    "plt.plot([1.1,2.1,3.1],D3,'rs-',label='A^3')\n",
    "plt.title('Eigenvalues')\n",
    "plt.legend()\n",
    "plt.show()"
   ]
  },
  {
   "cell_type": "code",
   "execution_count": 11,
   "metadata": {},
   "outputs": [
    {
     "name": "stdout",
     "output_type": "stream",
     "text": [
      "[2.86053376 0.11367401 0.01138965]\n",
      " \n",
      "[2.34067563e+01 1.46887064e-03 1.47751068e-06]\n",
      " \n",
      "[2.34067563e+01 1.46887064e-03 1.47751068e-06]\n"
     ]
    }
   ],
   "source": [
    "print(D), print(' ')\n",
    "print(D3), print(' ')\n",
    "print(D**3)"
   ]
  },
  {
   "cell_type": "code",
   "execution_count": null,
   "metadata": {},
   "outputs": [],
   "source": []
  },
  {
   "cell_type": "markdown",
   "metadata": {},
   "source": [
    "\n",
    "---\n",
    "# VIDEO: Eigenvectors of repeated eigenvalues\n",
    "---\n"
   ]
  },
  {
   "cell_type": "code",
   "execution_count": 13,
   "metadata": {},
   "outputs": [
    {
     "ename": "AttributeError",
     "evalue": "'Axes3DSubplot' object has no attribute 'plot_plane'",
     "output_type": "error",
     "traceback": [
      "\u001b[0;31m---------------------------------------------------------------------------\u001b[0m",
      "\u001b[0;31mAttributeError\u001b[0m                            Traceback (most recent call last)",
      "\u001b[0;32m<ipython-input-13-baf7ef950cf0>\u001b[0m in \u001b[0;36m<module>\u001b[0;34m\u001b[0m\n\u001b[1;32m     27\u001b[0m \u001b[0;34m\u001b[0m\u001b[0m\n\u001b[1;32m     28\u001b[0m \u001b[0;31m# plot subspace spanned by same-eigenvalued eigenvectors\u001b[0m\u001b[0;34m\u001b[0m\u001b[0;34m\u001b[0m\u001b[0;34m\u001b[0m\u001b[0m\n\u001b[0;32m---> 29\u001b[0;31m \u001b[0max\u001b[0m\u001b[0;34m.\u001b[0m\u001b[0mplot_plane\u001b[0m\u001b[0;34m(\u001b[0m\u001b[0max\u001b[0m\u001b[0;34m,\u001b[0m \u001b[0mV\u001b[0m\u001b[0;34m[\u001b[0m\u001b[0;34m:\u001b[0m\u001b[0;34m,\u001b[0m\u001b[0;36m0\u001b[0m\u001b[0;34m]\u001b[0m\u001b[0;34m,\u001b[0m\u001b[0mV\u001b[0m\u001b[0;34m[\u001b[0m\u001b[0;34m:\u001b[0m\u001b[0;34m,\u001b[0m\u001b[0;36m1\u001b[0m\u001b[0;34m]\u001b[0m\u001b[0;34m,\u001b[0m\u001b[0msize\u001b[0m\u001b[0;34m=\u001b[0m\u001b[0;36m3\u001b[0m\u001b[0;34m)\u001b[0m\u001b[0;34m\u001b[0m\u001b[0;34m\u001b[0m\u001b[0m\n\u001b[0m\u001b[1;32m     30\u001b[0m \u001b[0max\u001b[0m\u001b[0;34m.\u001b[0m\u001b[0mset_xlim3d\u001b[0m\u001b[0;34m(\u001b[0m\u001b[0;34m-\u001b[0m\u001b[0;36m1\u001b[0m\u001b[0;34m,\u001b[0m\u001b[0;36m1\u001b[0m\u001b[0;34m)\u001b[0m\u001b[0;34m\u001b[0m\u001b[0;34m\u001b[0m\u001b[0m\n\u001b[1;32m     31\u001b[0m \u001b[0max\u001b[0m\u001b[0;34m.\u001b[0m\u001b[0mset_ylim3d\u001b[0m\u001b[0;34m(\u001b[0m\u001b[0;34m-\u001b[0m\u001b[0;36m1\u001b[0m\u001b[0;34m,\u001b[0m\u001b[0;36m1\u001b[0m\u001b[0;34m)\u001b[0m\u001b[0;34m\u001b[0m\u001b[0;34m\u001b[0m\u001b[0m\n",
      "\u001b[0;31mAttributeError\u001b[0m: 'Axes3DSubplot' object has no attribute 'plot_plane'"
     ]
    },
    {
     "data": {
      "image/png": "[encoded data removed]",
      "text/plain": [
       "<Figure size 432x288 with 1 Axes>"
      ]
     },
     "metadata": {
      "needs_background": "light"
     },
     "output_type": "display_data"
    }
   ],
   "source": [
    "### Note about this cell: you need first to run the following cell,\n",
    "#   then come back and run this one!\n",
    "\n",
    "# a matrix\n",
    "A = [ [ 5,  -1,  0], \n",
    "      [-1,   5,  0],\n",
    "      [1/3,-1/3, 4] ]\n",
    "\n",
    "# its eigendecomposition\n",
    "D,V = np.linalg.eig(A)\n",
    "\n",
    "# sort eigenvalues\n",
    "i = np.argsort(D)\n",
    "D = D[i]\n",
    "V = V[:,i]\n",
    "\n",
    "\n",
    "## plot eigenvectors\n",
    "fig = plt.figure()\n",
    "ax = fig.gca(projection='3d')\n",
    "\n",
    "# plot eigenvectors of A\n",
    "ax.plot([0,V[0,0]],[0,V[1,0]],[0,V[2,0]],'r',label='v_1 ($\\lambda$=%g)' %D[0])\n",
    "ax.plot([0,V[0,1]],[0,V[1,1]],[0,V[2,1]],'k',label='v_2 ($\\lambda$=%g)' %D[1])\n",
    "ax.plot([0,V[0,2]],[0,V[1,2]],[0,V[2,2]],'b',label='v_3 ($\\lambda$=%g)' %D[2])\n",
    "plt.legend()\n",
    "\n",
    "# plot subspace spanned by same-eigenvalued eigenvectors\n",
    "ax.plot_plane(ax, V[:,0],V[:,1],size=3)\n",
    "ax.set_xlim3d(-1,1)\n",
    "ax.set_ylim3d(-1,1)\n",
    "ax.set_zlim3d(-1,1)\n",
    "\n",
    "plt.show()\n"
   ]
  },
  {
   "cell_type": "code",
   "execution_count": null,
   "metadata": {},
   "outputs": [],
   "source": [
    "# this code is copy-pasted with some light editing from:\n",
    "# https://stackoverflow.com/questions/3461869/plot-a-plane-based-on-a-normal-vector-and-a-point-in-matlab-or-matplotlib\n",
    "\n",
    "from matplotlib.patches import Circle, PathPatch\n",
    "from matplotlib.transforms import Affine2D\n",
    "from mpl_toolkits.mplot3d import art3d\n",
    "\n",
    "def plot_vector(fig, orig, v, color='blue'):\n",
    "   ax = fig.gca(projection='3d')\n",
    "   orig = np.array(orig); v=np.array(v)\n",
    "   ax.quiver(orig[0], orig[1], orig[2], v[0], v[1], v[2],color=color)\n",
    "   ax.set_xlim(0,10);ax.set_ylim(0,10);ax.set_zlim(0,10)\n",
    "   ax = fig.gca(projection='3d')  \n",
    "   return fig\n",
    "\n",
    "def rotation_matrix(d):\n",
    "    sin_angle = np.linalg.norm(d)\n",
    "    if sin_angle == 0:return np.identity(3)\n",
    "    d /= sin_angle\n",
    "    eye = np.eye(3)\n",
    "    ddt = np.outer(d, d)\n",
    "    skew = np.array([[    0,  d[2],  -d[1]],\n",
    "                  [-d[2],     0,  d[0]],\n",
    "                  [d[1], -d[0],    0]], dtype=np.float64)\n",
    "\n",
    "    M = ddt + np.sqrt(1 - sin_angle**2) * (eye - ddt) + sin_angle * skew\n",
    "    return M\n",
    "\n",
    "def pathpatch_2d_to_3d(pathpatch, z, normal):\n",
    "    if type(normal) is str: #Translate strings to normal vectors\n",
    "        index = \"xyz\".index(normal)\n",
    "        normal = np.roll((1.0,0,0), index)\n",
    "\n",
    "    normal /= np.linalg.norm(normal) #Make sure the vector is normalised\n",
    "    path = pathpatch.get_path() #Get the path and the associated transform\n",
    "    trans = pathpatch.get_patch_transform()\n",
    "\n",
    "    path = trans.transform_path(path) #Apply the transform\n",
    "\n",
    "    pathpatch.__class__ = art3d.PathPatch3D #Change the class\n",
    "    pathpatch._code3d = path.codes #Copy the codes\n",
    "    pathpatch._facecolor3d = pathpatch.get_facecolor #Get the face color    \n",
    "\n",
    "    verts = path.vertices #Get the vertices in 2D\n",
    "\n",
    "    d = np.cross(normal, (0, 0, 1)) #Obtain the rotation vector    \n",
    "    M = rotation_matrix(d) #Get the rotation matrix\n",
    "\n",
    "    pathpatch._segment3d = np.array([np.dot(M, (x, y, 0)) + (0, 0, z) for x, y in verts])\n",
    "\n",
    "def pathpatch_translate(pathpatch, delta):\n",
    "    pathpatch._segment3d += delta\n",
    "\n",
    "def plot_plane(ax, point, normal, size=10, color='g'):    \n",
    "    p = Circle((0, 0), size, facecolor = color, alpha = .8)\n",
    "    ax.add_patch(p)\n",
    "    pathpatch_2d_to_3d(p, z=0, normal=normal)\n",
    "    pathpatch_translate(p, (point[0], point[1], point[2]))\n",
    "\n",
    "\n",
    "o = np.array([5,5,5])\n",
    "v = np.array([3,3,3])\n",
    "n = [0.5, 0.5, 0.5]\n",
    "\n",
    "from mpl_toolkits.mplot3d import Axes3D"
   ]
  },
  {
   "cell_type": "markdown",
   "metadata": {},
   "source": [
    "\n",
    "---\n",
    "# Eigendecomposition of symmetric matrices\n",
    "---\n"
   ]
  },
  {
   "cell_type": "code",
   "execution_count": null,
   "metadata": {},
   "outputs": [],
   "source": [
    "# create a random matrix\n",
    "A = np.random.randn(14,14)\n",
    "\n",
    "# make it symmetric (additive method)\n",
    "A = A+A.T\n",
    "\n",
    "# diagonalize it\n",
    "evals,evecs = np.linalg.eig(A)\n",
    "print(evecs)\n",
    "# magnitudes of each vector\n",
    "print( np.sqrt( sum(evecs**2) ) )"
   ]
  },
  {
   "cell_type": "code",
   "execution_count": null,
   "metadata": {
    "scrolled": true
   },
   "outputs": [],
   "source": [
    "# and make plots\n",
    "plt.imshow(A)\n",
    "plt.axis('off')\n",
    "plt.title('A')\n",
    "plt.show()\n",
    "\n",
    "plt.imshow(evecs)\n",
    "plt.axis('off')\n",
    "plt.title('Eigenvectors')\n",
    "plt.show()\n",
    "\n",
    "plt.imshow(evecs@evecs.T)\n",
    "plt.axis('off')\n",
    "plt.title('VV^T')\n",
    "plt.show()"
   ]
  },
  {
   "cell_type": "code",
   "execution_count": null,
   "metadata": {},
   "outputs": [],
   "source": []
  },
  {
   "cell_type": "markdown",
   "metadata": {},
   "source": [
    "\n",
    "---\n",
    "# VIDEO: Generalized eigendecomposition\n",
    "---\n"
   ]
  },
  {
   "cell_type": "code",
   "execution_count": null,
   "metadata": {},
   "outputs": [],
   "source": [
    "import scipy.linalg # kindof annoying, but numpy doesn't do GED\n",
    "\n",
    "# define matrices\n",
    "A = np.array([ [3,2], [1,3]])\n",
    "B = np.array([ [1,1], [4,1]])\n",
    "\n",
    "# GED\n",
    "eigvals,eigvecs = scipy.linalg.eig(A,B)\n",
    "\n",
    "\n",
    "# matrix-vector multiplication\n",
    "Av = A@eigvecs[:,1]\n",
    "Bv = B@eigvecs[:,1]\n",
    "BinvAv = np.linalg.inv(B)@A@eigvecs[:,1]\n",
    "\n",
    "\n",
    "plt.plot([0,eigvecs[0,1]],[0,eigvecs[1,1]],'k',linewidth=4,label='$v_2$')\n",
    "plt.plot([0,Av[0]],[0,Av[1]],'r--',linewidth=2,label='$Av_2$')\n",
    "plt.xlim([-3,3]), plt.ylim([-3,3])\n",
    "plt.plot([-3,3],[0,0],'k:')\n",
    "plt.plot([0,0],[-3,3],'k:')\n",
    "plt.legend()\n",
    "plt.title('Av')\n",
    "plt.show()\n",
    "\n",
    "plt.plot([0,eigvecs[0,1]],[0,eigvecs[1,1]],'k',linewidth=4,label='$v_2$')\n",
    "plt.plot([0,Bv[0]],[0,Bv[1]],'r--',linewidth=2,label='$Bv_2$')\n",
    "plt.xlim([-3,3]), plt.ylim([-3,3])\n",
    "plt.plot([-3,3],[0,0],'k:')\n",
    "plt.plot([0,0],[-3,3],'k:')\n",
    "plt.legend()\n",
    "plt.title('Bv')\n",
    "plt.show()\n",
    "\n",
    "\n",
    "plt.plot([0,eigvecs[0,1]],[0,eigvecs[1,1]],'k',linewidth=4,label='$v_2$')\n",
    "plt.plot([0,BinvAv[0]],[0,BinvAv[1]],'r--',linewidth=2,label='B$^{-1}$Av_2')\n",
    "plt.xlim([-3,3]), plt.ylim([-3,3])\n",
    "plt.plot([-3,3],[0,0],'k:')\n",
    "plt.plot([0,0],[-3,3],'k:')\n",
    "plt.legend()\n",
    "plt.title('B$^{-1}$Av')\n",
    "plt.show()\n",
    "\n"
   ]
  }
 ],
 "metadata": {
  "kernelspec": {
   "display_name": "Python 3",
   "language": "python",
   "name": "python3"
  },
  "language_info": {
   "codemirror_mode": {
    "name": "ipython",
    "version": 3
   },
   "file_extension": ".py",
   "mimetype": "text/x-python",
   "name": "python",
   "nbconvert_exporter": "python",
   "pygments_lexer": "ipython3",
   "version": "3.8.3"
  }
 },
 "nbformat": 4,
 "nbformat_minor": 2
}
